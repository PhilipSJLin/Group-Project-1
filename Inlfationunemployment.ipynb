{
 "cells": [
  {
   "cell_type": "code",
   "execution_count": null,
   "metadata": {},
   "outputs": [
    {
     "ename": "",
     "evalue": "",
     "output_type": "error",
     "traceback": [
      "\u001b[1;31mRunning cells with '/usr/bin/python3' requires the ipykernel package.\n",
      "\u001b[1;31mRun the following command to install 'ipykernel' into the Python environment. \n",
      "\u001b[1;31mCommand: '/usr/bin/python3 -m pip install ipykernel -U --user --force-reinstall'"
     ]
    }
   ],
   "source": [
    "import pandas as pd\n",
    "import matplotlib.pyplot as plt\n",
    "import seaborn as sns\n",
    "\n",
    "# Read the BLS CSV files into Pandas DataFrames\n",
    "unemployment_df = pd.read_csv('unemployment.csv')\n",
    "cpi_df = pd.read_csv('cpi.csv')\n",
    "\n",
    "# Merge the two DataFrames based on the date field\n",
    "merged_df = pd.merge(unemployment_df, cpi_df, on='date')\n",
    "\n",
    "# Create a scatter plot with CPI on the x-axis and unemployment rate on the y-axis\n",
    "sns.scatterplot(data=merged_df, x='CPI', y='UnemploymentRate')\n",
    "\n",
    "# Add a regression line to the scatter plot\n",
    "sns.regplot(data=merged_df, x='CPI', y='UnemploymentRate')\n",
    "\n",
    "# Set the plot title and labels\n",
    "plt.title('Unemployment Rate vs. CPI')\n",
    "plt.xlabel('CPI')\n",
    "plt.ylabel('Unemployment Rate')\n",
    "\n",
    "# Display the plot\n",
    "plt.show()\n"
   ]
  }
 ],
 "metadata": {
  "kernelspec": {
   "display_name": "Python 3",
   "language": "python",
   "name": "python3"
  },
  "language_info": {
   "name": "python",
   "version": "3.8.2"
  },
  "orig_nbformat": 4,
  "vscode": {
   "interpreter": {
    "hash": "31f2aee4e71d21fbe5cf8b01ff0e069b9275f58929596ceb00d14d90e3e16cd6"
   }
  }
 },
 "nbformat": 4,
 "nbformat_minor": 2
}
